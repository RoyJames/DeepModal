{
 "cells": [
  {
   "cell_type": "code",
   "execution_count": 1,
   "metadata": {},
   "outputs": [
    {
     "output_type": "display_data",
     "data": {
      "text/plain": "interactive(children=(IntSlider(value=0, description='x', layout=Layout(width='700px'), max=2), Output()), _do…",
      "application/vnd.jupyter.widget-view+json": {
       "version_major": 2,
       "version_minor": 0,
       "model_id": "64ccdf506d3a4bd081785ded5b5dffac"
      }
     },
     "metadata": {}
    },
    {
     "output_type": "display_data",
     "data": {
      "text/plain": "FigureWidget({\n    'data': [{'i': array([ 276,  274,  292, ..., 1423, 1503, 1589], dtype=uint32),\n            …",
      "application/vnd.jupyter.widget-view+json": {
       "version_major": 2,
       "version_minor": 0,
       "model_id": "2728552b333844aaa0d093dfb1f3cb15"
      }
     },
     "metadata": {}
    }
   ],
   "source": [
    "import plotly.graph_objs as go\n",
    "import plotly.figure_factory as ff\n",
    "from ipywidgets import interact, Layout, IntSlider\n",
    "import bempp.api\n",
    "from bempp.api import GridFunction\n",
    "from analysis.BEM import boundary_mesh\n",
    "\n",
    "mesh = boundary_mesh(grid=bempp.api.shapes.sphere(h=0.1))\n",
    "vertices = mesh.grid.vertices\n",
    "elements = mesh.grid.elements\n",
    "fig = go.FigureWidget(data = [\n",
    "    go.Mesh3d(\n",
    "            x=vertices[0],\n",
    "            y=vertices[1],\n",
    "            z=vertices[2],\n",
    "            intensity = mesh.face_centers()[:1],\n",
    "            intensitymode='cell',\n",
    "            i = elements[0],\n",
    "            j = elements[1],\n",
    "            k = elements[2]\n",
    "    )\n",
    "])\n",
    "fig.update_layout(\n",
    "    width=800,\n",
    "    height=600,\n",
    "    margin=dict(l=0,r=0,b=0,t=40,pad=0),\n",
    "    title={'y':0.9,'x':0.4}\n",
    ")\n",
    "@interact(x=IntSlider(min=0, max=2, step=1, value=0, layout=Layout(width='700px')))\n",
    "def f(x):\n",
    "    fig.data[0].intensity = mesh.face_centers()[:,x]\n",
    "    fig.layout.title['text'] = str(x)\n",
    "fig"
   ]
  },
  {
   "cell_type": "code",
   "execution_count": null,
   "metadata": {},
   "outputs": [],
   "source": []
  }
 ],
 "metadata": {
  "kernelspec": {
   "display_name": "Python 3.6.12 64-bit ('deepmodal': conda)",
   "language": "python",
   "name": "python361264bitdeepmodalcondab03c73b134c6417e9d2bc8bafba2bcbd"
  },
  "language_info": {
   "codemirror_mode": {
    "name": "ipython",
    "version": 3
   },
   "file_extension": ".py",
   "mimetype": "text/x-python",
   "name": "python",
   "nbconvert_exporter": "python",
   "pygments_lexer": "ipython3",
   "version": "3.7.9-final"
  }
 },
 "nbformat": 4,
 "nbformat_minor": 2
}